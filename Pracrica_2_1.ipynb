{
  "nbformat": 4,
  "nbformat_minor": 0,
  "metadata": {
    "colab": {
      "provenance": [],
      "include_colab_link": true
    },
    "kernelspec": {
      "name": "python3",
      "display_name": "Python 3"
    },
    "language_info": {
      "name": "python"
    }
  },
  "cells": [
    {
      "cell_type": "markdown",
      "metadata": {
        "id": "view-in-github",
        "colab_type": "text"
      },
      "source": [
        "<a href=\"https://colab.research.google.com/github/AngelRosalesContreras/Practica_2_1/blob/main/Pracrica_2_1.ipynb\" target=\"_parent\"><img src=\"https://colab.research.google.com/assets/colab-badge.svg\" alt=\"Open In Colab\"/></a>"
      ]
    },
    {
      "cell_type": "markdown",
      "source": [
        "Segmentación por crecimiento de región"
      ],
      "metadata": {
        "id": "yRdzJAunOSjt"
      }
    },
    {
      "cell_type": "code",
      "execution_count": null,
      "metadata": {
        "id": "_ZFMxDmGNeui"
      },
      "outputs": [],
      "source": [
        "import numpy as np\n",
        "import cv2\n",
        "import matplotlib.pyplot as plt\n",
        "\n",
        "def generate_random_seed(image):\n",
        "    height, width = image.shape\n",
        "    random_x = np.random.randint(0, height)  # Genera una coordenada x aleatoria dentro del rango de la imagen\n",
        "    random_y = np.random.randint(0, width)   # Genera una coordenada y aleatoria dentro del rango de la imagen\n",
        "    return random_x, random_y\n",
        "\n",
        "def region_growing(image, seed, umbral):\n",
        "    height, width = image.shape\n",
        "    segmented = np.zeros_like(image, dtype=np.uint8)\n",
        "    visited = np.zeros_like(image)\n",
        "    stack = []\n",
        "    stack.append(seed)\n",
        "    while len(stack) > 0:\n",
        "        x, y = stack.pop()\n",
        "        if visited[x, y] == 1:\n",
        "            continue\n",
        "        if abs(int(image[x, y]) - int(image[seed])) < umbral:  # Criterio de diferencia absoluta menor a umbral T\n",
        "            segmented[x, y] = 255\n",
        "            visited[x, y] = 1\n",
        "            # Agregar vecinos a la pila\n",
        "            if x > 0:\n",
        "                stack.append((x - 1, y))\n",
        "            if x < height - 1:\n",
        "                stack.append((x + 1, y))\n",
        "            if y > 0:\n",
        "                stack.append((x, y - 1))\n",
        "            if y < width - 1:\n",
        "                stack.append((x, y + 1))\n",
        "    return segmented\n",
        "\n",
        "# Cargar la imagen\n",
        "image = cv2.imread('apple.jpg', 0)\n",
        "\n",
        "# Generar ubicación aleatoria como semilla\n",
        "seed = generate_random_seed(image)\n",
        "\n",
        "# Generar ubicación de manera manual como semilla\n",
        "# seed = (1, 1)\n",
        "\n",
        "# Umbral T para la diferencia absoluta entre la semilla y el píxel evaluado\n",
        "umbral = 20\n",
        "\n",
        "# Aplicar el algoritmo de crecimiento de región con el criterio definido por el usuario\n",
        "segmented_image = region_growing(image, seed, umbral)\n",
        "\n",
        "plt.figure(figsize=(12, 6))\n",
        "plt.subplot(1, 2, 1)\n",
        "plt.imshow(image, cmap='gray')\n",
        "plt.title('Original Image')\n",
        "plt.axis('off')\n",
        "\n",
        "plt.subplot(1, 2, 2)\n",
        "plt.imshow(segmented_image, cmap='gray')\n",
        "plt.title('Segmented Image')\n",
        "plt.axis('off')\n",
        "\n",
        "plt.show()"
      ]
    }
  ]
}